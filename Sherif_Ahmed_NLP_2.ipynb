{
  "nbformat": 4,
  "nbformat_minor": 0,
  "metadata": {
    "colab": {
      "name": "Sherif Ahmed NLP 2.ipynb",
      "provenance": []
    },
    "kernelspec": {
      "name": "python3",
      "display_name": "Python 3"
    },
    "language_info": {
      "name": "python"
    }
  },
  "cells": [
    {
      "cell_type": "code",
      "execution_count": 1,
      "metadata": {
        "id": "C8K8ZMFn14IN",
        "colab": {
          "base_uri": "https://localhost:8080/"
        },
        "outputId": "be6adc01-ee39-4d5d-9e67-07e10b1fbed3"
      },
      "outputs": [
        {
          "output_type": "stream",
          "name": "stdout",
          "text": [
            "Looking in indexes: https://pypi.org/simple, https://us-python.pkg.dev/colab-wheels/public/simple/\n",
            "Requirement already satisfied: cmake in /usr/local/lib/python3.7/dist-packages (3.22.4)\n",
            "Requirement already satisfied: gym[atari] in /usr/local/lib/python3.7/dist-packages (0.17.3)\n",
            "Requirement already satisfied: scipy in /usr/local/lib/python3.7/dist-packages (1.4.1)\n",
            "Requirement already satisfied: numpy>=1.13.3 in /usr/local/lib/python3.7/dist-packages (from scipy) (1.21.6)\n",
            "Requirement already satisfied: cloudpickle<1.7.0,>=1.2.0 in /usr/local/lib/python3.7/dist-packages (from gym[atari]) (1.3.0)\n",
            "Requirement already satisfied: pyglet<=1.5.0,>=1.4.0 in /usr/local/lib/python3.7/dist-packages (from gym[atari]) (1.5.0)\n",
            "Requirement already satisfied: Pillow in /usr/local/lib/python3.7/dist-packages (from gym[atari]) (7.1.2)\n",
            "Requirement already satisfied: atari-py~=0.2.0 in /usr/local/lib/python3.7/dist-packages (from gym[atari]) (0.2.9)\n",
            "Requirement already satisfied: opencv-python in /usr/local/lib/python3.7/dist-packages (from gym[atari]) (4.1.2.30)\n",
            "Requirement already satisfied: six in /usr/local/lib/python3.7/dist-packages (from atari-py~=0.2.0->gym[atari]) (1.15.0)\n",
            "Requirement already satisfied: future in /usr/local/lib/python3.7/dist-packages (from pyglet<=1.5.0,>=1.4.0->gym[atari]) (0.16.0)\n"
          ]
        }
      ],
      "source": [
        "!pip install cmake 'gym[atari]' scipy"
      ]
    },
    {
      "cell_type": "markdown",
      "source": [
        "# Set up the environment"
      ],
      "metadata": {
        "id": "0yyvqym9ULB5"
      }
    },
    {
      "cell_type": "code",
      "source": [
        "import gym\n",
        "\n",
        "env = gym.make(\"Taxi-v3\").env\n",
        "\n",
        "env.render()"
      ],
      "metadata": {
        "colab": {
          "base_uri": "https://localhost:8080/"
        },
        "id": "_GVLfKvr4bsq",
        "outputId": "ab62e36e-65c3-4c84-ae50-7fb28cc188e3"
      },
      "execution_count": 2,
      "outputs": [
        {
          "output_type": "stream",
          "name": "stdout",
          "text": [
            "+---------+\n",
            "|\u001b[34;1mR\u001b[0m: | : :\u001b[35mG\u001b[0m|\n",
            "| : | : :\u001b[43m \u001b[0m|\n",
            "| : : : : |\n",
            "| | : | : |\n",
            "|Y| : |B: |\n",
            "+---------+\n",
            "\n"
          ]
        }
      ]
    },
    {
      "cell_type": "code",
      "source": [
        "env.s = 301\n",
        "env.render()"
      ],
      "metadata": {
        "colab": {
          "base_uri": "https://localhost:8080/"
        },
        "id": "HTFkE1WQ9hhI",
        "outputId": "9367ded1-8d8a-4c8a-b6b5-7c4db4b7c20b"
      },
      "execution_count": 3,
      "outputs": [
        {
          "output_type": "stream",
          "name": "stdout",
          "text": [
            "+---------+\n",
            "|\u001b[34;1mR\u001b[0m: | : :\u001b[35mG\u001b[0m|\n",
            "| : | : : |\n",
            "| : : : : |\n",
            "|\u001b[43m \u001b[0m| : | : |\n",
            "|Y| : |B: |\n",
            "+---------+\n",
            "\n"
          ]
        }
      ]
    },
    {
      "cell_type": "code",
      "source": [
        "env.reset() # reset environment to a new, random state\n",
        "env.render()\n",
        "\n",
        "print(\"Action Space {}\".format(env.action_space))\n",
        "print(\"State Space {}\".format(env.observation_space))"
      ],
      "metadata": {
        "colab": {
          "base_uri": "https://localhost:8080/"
        },
        "id": "ywrO5gdk5VUB",
        "outputId": "674dc784-c483-446b-f68e-df18645c4c9d"
      },
      "execution_count": 4,
      "outputs": [
        {
          "output_type": "stream",
          "name": "stdout",
          "text": [
            "+---------+\n",
            "|\u001b[34;1mR\u001b[0m: | : :G|\n",
            "| : | : : |\n",
            "| : :\u001b[43m \u001b[0m: : |\n",
            "| | : | : |\n",
            "|\u001b[35mY\u001b[0m| : |B: |\n",
            "+---------+\n",
            "\n",
            "Action Space Discrete(6)\n",
            "State Space Discrete(500)\n"
          ]
        }
      ]
    },
    {
      "cell_type": "markdown",
      "source": [
        "# State encoding and setting"
      ],
      "metadata": {
        "id": "uoddo4iYUP64"
      }
    },
    {
      "cell_type": "code",
      "source": [
        "state = env.encode(4, 0, 3, 2)\n",
        "state"
      ],
      "metadata": {
        "colab": {
          "base_uri": "https://localhost:8080/"
        },
        "id": "mU50TjrHCc9F",
        "outputId": "23f28fcc-4f80-4ee7-f7a6-24e3b6c53355"
      },
      "execution_count": 5,
      "outputs": [
        {
          "output_type": "execute_result",
          "data": {
            "text/plain": [
              "414"
            ]
          },
          "metadata": {},
          "execution_count": 5
        }
      ]
    },
    {
      "cell_type": "code",
      "source": [
        "state = env.encode(4, 0, 3, 2) # (taxi row, taxi column, passenger index, destination index)\n",
        "print(\"State:\", state)\n",
        "\n",
        "env.s = state\n",
        "env.render()"
      ],
      "metadata": {
        "colab": {
          "base_uri": "https://localhost:8080/"
        },
        "id": "YOA6q-o75fKG",
        "outputId": "22d2d2ef-926a-4e98-e5ef-55f6497ead32"
      },
      "execution_count": 6,
      "outputs": [
        {
          "output_type": "stream",
          "name": "stdout",
          "text": [
            "State: 414\n",
            "+---------+\n",
            "|R: | : :G|\n",
            "| : | : : |\n",
            "| : : : : |\n",
            "| | : | : |\n",
            "|\u001b[35m\u001b[43mY\u001b[0m\u001b[0m| : |\u001b[34;1mB\u001b[0m: |\n",
            "+---------+\n",
            "\n"
          ]
        }
      ]
    },
    {
      "cell_type": "code",
      "source": [
        "env.P[416]"
      ],
      "metadata": {
        "colab": {
          "base_uri": "https://localhost:8080/"
        },
        "id": "aijhnQ06E79A",
        "outputId": "76684c96-01e6-465e-90e8-a4ad58e9179e"
      },
      "execution_count": 7,
      "outputs": [
        {
          "output_type": "execute_result",
          "data": {
            "text/plain": [
              "{0: [(1.0, 416, -1, False)],\n",
              " 1: [(1.0, 316, -1, False)],\n",
              " 2: [(1.0, 416, -1, False)],\n",
              " 3: [(1.0, 416, -1, False)],\n",
              " 4: [(1.0, 416, -10, False)],\n",
              " 5: [(1.0, 408, -1, False)]}"
            ]
          },
          "metadata": {},
          "execution_count": 7
        }
      ]
    },
    {
      "cell_type": "code",
      "source": [
        "env.P[100]\n",
        "\n",
        "# env.s = 100\n",
        "# env.render()"
      ],
      "metadata": {
        "id": "Ad_5g8jf9NHS",
        "colab": {
          "base_uri": "https://localhost:8080/"
        },
        "outputId": "be10a49d-08e6-44c3-ddda-0245205dd3c0"
      },
      "execution_count": 8,
      "outputs": [
        {
          "output_type": "execute_result",
          "data": {
            "text/plain": [
              "{0: [(1.0, 200, -1, False)],\n",
              " 1: [(1.0, 0, -1, False)],\n",
              " 2: [(1.0, 120, -1, False)],\n",
              " 3: [(1.0, 100, -1, False)],\n",
              " 4: [(1.0, 100, -10, False)],\n",
              " 5: [(1.0, 100, -10, False)]}"
            ]
          },
          "metadata": {},
          "execution_count": 8
        }
      ]
    },
    {
      "cell_type": "markdown",
      "source": [
        "# Brute force approach\n"
      ],
      "metadata": {
        "id": "O40te3BtUfSd"
      }
    },
    {
      "cell_type": "code",
      "source": [
        "env.action_space.sample()"
      ],
      "metadata": {
        "colab": {
          "base_uri": "https://localhost:8080/"
        },
        "id": "Lduc5RVSIAqu",
        "outputId": "3d5732a0-9a6f-4319-df60-4bc7d9e86195"
      },
      "execution_count": 9,
      "outputs": [
        {
          "output_type": "execute_result",
          "data": {
            "text/plain": [
              "3"
            ]
          },
          "metadata": {},
          "execution_count": 9
        }
      ]
    },
    {
      "cell_type": "code",
      "source": [
        "def bf(initial_state=0):\n",
        "\n",
        "  env.s = initial_state  # set environment to illustration's state\n",
        "\n",
        "  epochs = 0\n",
        "  penalties, rewards = 0,0\n",
        "\n",
        "  frames = [] # for animation\n",
        "\n",
        "  done = False\n",
        "\n",
        "  while not done:\n",
        "      action = env.action_space.sample()\n",
        "      state, reward, done, info = env.step(action)\n",
        "\n",
        "      if reward == -10:\n",
        "          penalties += 1\n",
        "      \n",
        "      if reward > 0:\n",
        "        rewards += 1\n",
        "\n",
        "      # Put each rendered frame into dict for animation\n",
        "      frames.append({\n",
        "          'frame' : env.render(mode='ansi'),\n",
        "          'state' : state,\n",
        "          'action': action,\n",
        "          'reward': reward\n",
        "          }\n",
        "      )\n",
        "\n",
        "      epochs += 1\n",
        "      \n",
        "      \n",
        "  print(\"Timesteps taken: {}\".format(epochs))\n",
        "  print(\"Penalties incurred: {}\".format(penalties))"
      ],
      "metadata": {
        "id": "6NcyvYhbPIqz"
      },
      "execution_count": 10,
      "outputs": []
    },
    {
      "cell_type": "code",
      "source": [
        "bf(295)"
      ],
      "metadata": {
        "colab": {
          "base_uri": "https://localhost:8080/"
        },
        "id": "fGsuIOVLtBLK",
        "outputId": "4f2d82bb-5047-449d-9682-ed9593c51f3a"
      },
      "execution_count": 11,
      "outputs": [
        {
          "output_type": "stream",
          "name": "stdout",
          "text": [
            "Timesteps taken: 10\n",
            "Penalties incurred: 2\n"
          ]
        }
      ]
    },
    {
      "cell_type": "code",
      "source": [
        "from IPython.display import clear_output\n",
        "from time import sleep\n",
        "\n",
        "def print_frames(frames):\n",
        "  for i, frame in enumerate(frames):\n",
        "      clear_output(wait=True)\n",
        "      print(frame['frame'])\n",
        "      print(f\"Timestep: {i + 1}\")\n",
        "      print(f\"State: {frame['state']}\")\n",
        "      print(f\"Action: {frame['action']}\")\n",
        "      print(f\"Reward: {frame['reward']}\")\n",
        "      sleep(1)\n",
        "\n",
        "print_frames(frames)"
      ],
      "metadata": {
        "id": "mfrQrZqePK4R",
        "outputId": "0b5c7b57-9e62-4135-e771-5eeb5ddf9a49",
        "colab": {
          "base_uri": "https://localhost:8080/",
          "height": 200
        }
      },
      "execution_count": 15,
      "outputs": [
        {
          "output_type": "error",
          "ename": "NameError",
          "evalue": "ignored",
          "traceback": [
            "\u001b[0;31m---------------------------------------------------------------------------\u001b[0m",
            "\u001b[0;31mNameError\u001b[0m                                 Traceback (most recent call last)",
            "\u001b[0;32m<ipython-input-15-bb9f49ba899a>\u001b[0m in \u001b[0;36m<module>\u001b[0;34m()\u001b[0m\n\u001b[1;32m     12\u001b[0m       \u001b[0msleep\u001b[0m\u001b[0;34m(\u001b[0m\u001b[0;36m1\u001b[0m\u001b[0;34m)\u001b[0m\u001b[0;34m\u001b[0m\u001b[0;34m\u001b[0m\u001b[0m\n\u001b[1;32m     13\u001b[0m \u001b[0;34m\u001b[0m\u001b[0m\n\u001b[0;32m---> 14\u001b[0;31m \u001b[0mprint_frames\u001b[0m\u001b[0;34m(\u001b[0m\u001b[0mframes\u001b[0m\u001b[0;34m)\u001b[0m\u001b[0;34m\u001b[0m\u001b[0;34m\u001b[0m\u001b[0m\n\u001b[0m",
            "\u001b[0;31mNameError\u001b[0m: name 'frames' is not defined"
          ]
        }
      ]
    },
    {
      "cell_type": "markdown",
      "source": [
        "# Q-learning approach\n",
        "![image.png](data:image/png;base64,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)\n",
        "\n",
        "\n",
        "![image.png](data:image/png;base64,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)"
      ],
      "metadata": {
        "id": "mIR_WnoWUtI8"
      }
    },
    {
      "cell_type": "code",
      "source": [
        "import random\n",
        "from IPython.display import clear_output\n",
        "import numpy as np\n",
        "\n",
        "if random.uniform(0, 1) < 0.3:\n",
        "  print(\"ok\")"
      ],
      "metadata": {
        "id": "adWAWkH9ONcu"
      },
      "execution_count": null,
      "outputs": []
    },
    {
      "cell_type": "code",
      "source": [
        "%%time\n",
        "\"\"\"Training the agent\"\"\"\n",
        "\n",
        "import random\n",
        "from IPython.display import clear_output\n",
        "import numpy as np\n",
        "\n",
        "# Initialize the q table\n",
        "q_table = np.zeros([env.observation_space.n, env.action_space.n])\n",
        "\n",
        "def training(alpha,gamma,epsilon,Episode):\n",
        "\n",
        "  # Hyperparameters\n",
        "  alpha = alpha\n",
        "  gamma = gamma\n",
        "  epsilon = epsilon\n",
        "\n",
        "  # For plotting metrics\n",
        "  all_epochs = []\n",
        "  all_penalties = []\n",
        "\n",
        "  for i in range(1, Episode):\n",
        "      state = env.reset()\n",
        "\n",
        "      epochs, penalties, reward, = 0, 0, 0\n",
        "      done = False\n",
        "      \n",
        "      while not done:\n",
        "          if random.uniform(0, 1) < epsilon:\n",
        "              action = env.action_space.sample() # Explore action space\n",
        "          else:\n",
        "              action = np.argmax(q_table[state]) # Exploit learned values\n",
        "\n",
        "          next_state, reward, done, info = env.step(action) \n",
        "          \n",
        "          old_value = q_table[state, action]\n",
        "          next_max = np.max(q_table[next_state])\n",
        "      \n",
        "          new_value = (1 - alpha) * old_value + alpha * (reward + gamma * next_max)\n",
        "          q_table[state, action] = new_value\n",
        "\n",
        "          if reward == -10:\n",
        "              penalties += 1\n",
        "\n",
        "          state = next_state\n",
        "          epochs += 1\n",
        "          \n",
        "      if i % 100 == 0:\n",
        "          clear_output(wait=True)\n",
        "          print(f\"Episode: {i}\")\n",
        "\n",
        "  print(\"Training finished.\\n\")\n",
        "  env.render()"
      ],
      "metadata": {
        "id": "spjZSoYqibrT"
      },
      "execution_count": null,
      "outputs": []
    },
    {
      "cell_type": "code",
      "source": [
        "training(.3,.5,.5,100000)"
      ],
      "metadata": {
        "id": "ssm8Z-XqqNu2"
      },
      "execution_count": null,
      "outputs": []
    },
    {
      "cell_type": "code",
      "source": [
        "env.encode"
      ],
      "metadata": {
        "id": "YPOL15lAEsGR"
      },
      "execution_count": null,
      "outputs": []
    },
    {
      "cell_type": "markdown",
      "source": [
        "# Evalutation"
      ],
      "metadata": {
        "id": "IZ_rv1Z0U2Yx"
      }
    },
    {
      "cell_type": "code",
      "source": [
        "\"\"\"Evaluate agent's performance after Q-learning\"\"\"\n",
        "\n",
        "def eval(episodes):\n",
        "\n",
        "  total_epochs, total_penalties = 0, 0\n",
        "\n",
        "  for _ in range(episodes):\n",
        "      state = env.reset()\n",
        "      epochs, penalties, reward = 0, 0, 0\n",
        "      \n",
        "      done = False\n",
        "      \n",
        "      while not done:\n",
        "          action = np.argmax(q_table[state])\n",
        "          state, reward, done, info = env.step(action)\n",
        "\n",
        "          if reward == -10:\n",
        "              penalties += 1\n",
        "\n",
        "          epochs += 1\n",
        "\n",
        "      total_penalties += penalties\n",
        "      total_epochs += epochs\n",
        "\n",
        "  print(f\"Results after {episodes} episodes:\")\n",
        "  print(f\"Average timesteps per episode: {total_epochs / episodes}\")\n",
        "  print(f\"Average penalties per episode: {total_penalties / episodes}\")\n",
        "  env.render()"
      ],
      "metadata": {
        "id": "XXM_lpN_PMj0"
      },
      "execution_count": null,
      "outputs": []
    },
    {
      "cell_type": "code",
      "source": [
        "eval(100000)"
      ],
      "metadata": {
        "id": "SRq9MWQNsRt-"
      },
      "execution_count": null,
      "outputs": []
    },
    {
      "cell_type": "code",
      "source": [
        ""
      ],
      "metadata": {
        "id": "zrVPgSbp4X1m"
      },
      "execution_count": null,
      "outputs": []
    }
  ]
}